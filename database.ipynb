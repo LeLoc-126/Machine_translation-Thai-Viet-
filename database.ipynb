{
 "cells": [
  {
   "cell_type": "code",
   "execution_count": 1,
   "id": "7c31021d",
   "metadata": {},
   "outputs": [],
   "source": [
    "import pandas as pd\n",
    "import duckdb\n",
    "import time\n"
   ]
  },
  {
   "cell_type": "code",
   "execution_count": 5,
   "id": "a4517cdd",
   "metadata": {},
   "outputs": [],
   "source": [
    "df = pd.read_csv(\"/home/leloc/Document/USTH/Thesis/Data/preprocess.csv\")"
   ]
  },
  {
   "cell_type": "code",
   "execution_count": 6,
   "id": "708b7775",
   "metadata": {},
   "outputs": [
    {
     "name": "stdout",
     "output_type": "stream",
     "text": [
      "✅ Đã chèn 15193992 dòng vào DuckDB trong 19.40 giây\n"
     ]
    }
   ],
   "source": [
    "con = duckdb.connect(\"translation.db\")\n",
    "\n",
    "# Tạo bảng nếu chưa có\n",
    "con.execute(\"\"\"\n",
    "    CREATE TABLE IF NOT EXISTS translations (\n",
    "        thai TEXT,\n",
    "        vietnamese TEXT\n",
    "    )\n",
    "\"\"\")\n",
    "\n",
    "# Chèn dữ liệu và đo thời gian\n",
    "start = time.time()\n",
    "\n",
    "con.register(\"df_view\", df)\n",
    "con.execute(\"INSERT INTO translations SELECT * FROM df_view\")\n",
    "\n",
    "end = time.time()\n",
    "print(f\"✅ Đã chèn {len(df)} dòng vào DuckDB trong {end - start:.2f} giây\")\n",
    "\n",
    "con.close()"
   ]
  },
  {
   "cell_type": "code",
   "execution_count": 8,
   "id": "367631bb",
   "metadata": {},
   "outputs": [
    {
     "name": "stdout",
     "output_type": "stream",
     "text": [
      "15193992\n"
     ]
    }
   ],
   "source": [
    "con = duckdb.connect(\"translation.db\")\n",
    "print(con.execute(\"SELECT COUNT(*) FROM translations\").fetchone()[0])\n",
    "con.close()\n"
   ]
  },
  {
   "cell_type": "code",
   "execution_count": 4,
   "id": "5ef730ee",
   "metadata": {},
   "outputs": [
    {
     "data": {
      "text/html": [
       "<div>\n",
       "<style scoped>\n",
       "    .dataframe tbody tr th:only-of-type {\n",
       "        vertical-align: middle;\n",
       "    }\n",
       "\n",
       "    .dataframe tbody tr th {\n",
       "        vertical-align: top;\n",
       "    }\n",
       "\n",
       "    .dataframe thead th {\n",
       "        text-align: right;\n",
       "    }\n",
       "</style>\n",
       "<table border=\"1\" class=\"dataframe\">\n",
       "  <thead>\n",
       "    <tr style=\"text-align: right;\">\n",
       "      <th></th>\n",
       "      <th>thai</th>\n",
       "      <th>viet</th>\n",
       "    </tr>\n",
       "  </thead>\n",
       "  <tbody>\n",
       "    <tr>\n",
       "      <th>0</th>\n",
       "      <td>- รร.แกรนด์โฮเต็ล</td>\n",
       "      <td>- Khách sạn Grand.</td>\n",
       "    </tr>\n",
       "    <tr>\n",
       "      <th>1</th>\n",
       "      <td>- สายไม่ว่าง</td>\n",
       "      <td>- Đường dây bận.</td>\n",
       "    </tr>\n",
       "    <tr>\n",
       "      <th>2</th>\n",
       "      <td>นั่นใครพูดคะ</td>\n",
       "      <td>Ai đấy?</td>\n",
       "    </tr>\n",
       "    <tr>\n",
       "      <th>3</th>\n",
       "      <td>ฉันจะโอนสายคุณ ไปที่แผนกรูมเซอร์วิส</td>\n",
       "      <td>Tôi có thể kết nối quý khách với dịch vụ phòng.</td>\n",
       "    </tr>\n",
       "    <tr>\n",
       "      <th>4</th>\n",
       "      <td>ฮัลโหลๆ</td>\n",
       "      <td>A lô.</td>\n",
       "    </tr>\n",
       "  </tbody>\n",
       "</table>\n",
       "</div>"
      ],
      "text/plain": [
       "                                  thai  \\\n",
       "0                    - รร.แกรนด์โฮเต็ล   \n",
       "1                         - สายไม่ว่าง   \n",
       "2                         นั่นใครพูดคะ   \n",
       "3  ฉันจะโอนสายคุณ ไปที่แผนกรูมเซอร์วิส   \n",
       "4                              ฮัลโหลๆ   \n",
       "\n",
       "                                              viet  \n",
       "0                               - Khách sạn Grand.  \n",
       "1                                 - Đường dây bận.  \n",
       "2                                          Ai đấy?  \n",
       "3  Tôi có thể kết nối quý khách với dịch vụ phòng.  \n",
       "4                                            A lô.  "
      ]
     },
     "execution_count": 4,
     "metadata": {},
     "output_type": "execute_result"
    }
   ],
   "source": [
    "con = duckdb.connect(\"translation.db\")\n",
    "df = con.execute(\"SELECT * FROM translations LIMIT 5\").fetchdf()\n",
    "df"
   ]
  },
  {
   "cell_type": "code",
   "execution_count": null,
   "id": "7e01ebec",
   "metadata": {},
   "outputs": [
    {
     "data": {
      "text/plain": [
       "<duckdb.duckdb.DuckDBPyConnection at 0x7f2e42b70ab0>"
      ]
     },
     "execution_count": 4,
     "metadata": {},
     "output_type": "execute_result"
    }
   ],
   "source": [
    "con = duckdb.connect(\"/home/leloc/Document/USTH/Thesis/translation.db\")\n",
    "\n",
    "con.execute(\"ALTER TABLE translations ADD COLUMN IF NOT EXISTS thai_input_ids BLOB\")\n",
    "con.execute(\"ALTER TABLE translations ADD COLUMN IF NOT EXISTS thai_attention_mask BLOB\")\n",
    "con.execute(\"ALTER TABLE translations ADD COLUMN IF NOT EXISTS vi_input_ids BLOB\")\n",
    "con.execute(\"ALTER TABLE translations ADD COLUMN IF NOT EXISTS vi_attention_mask BLOB\")\n",
    "\n",
    "con.close()"
   ]
  },
  {
   "cell_type": "code",
   "execution_count": null,
   "id": "a1279d73",
   "metadata": {},
   "outputs": [
    {
     "name": "stdout",
     "output_type": "stream",
     "text": [
      "[('translations',)]\n"
     ]
    }
   ],
   "source": [
    "con = duckdb.connect(\"/home/leloc/Document/USTH/Thesis/translation.db\")\n",
    "result = con.execute(\"SHOW TABLES\").fetchall()\n",
    "print(result)"
   ]
  },
  {
   "cell_type": "code",
   "execution_count": null,
   "id": "9b908442",
   "metadata": {},
   "outputs": [
    {
     "name": "stdout",
     "output_type": "stream",
     "text": [
      "[(0, 'thai', 'VARCHAR', False, None, False), (1, 'viet', 'VARCHAR', False, None, False), (2, 'thai_input_ids', 'BLOB', False, None, False), (3, 'thai_attention_mask', 'BLOB', False, None, False), (4, 'vi_input_ids', 'BLOB', False, None, False), (5, 'vi_attention_mask', 'BLOB', False, None, False)]\n"
     ]
    }
   ],
   "source": [
    "result = con.execute(\"DESCRIBE translations\").fetchall()\n",
    "print(result)"
   ]
  },
  {
   "cell_type": "code",
   "execution_count": null,
   "id": "ce6f0489",
   "metadata": {},
   "outputs": [],
   "source": []
  }
 ],
 "metadata": {
  "kernelspec": {
   "display_name": "thesis",
   "language": "python",
   "name": "python3"
  },
  "language_info": {
   "codemirror_mode": {
    "name": "ipython",
    "version": 3
   },
   "file_extension": ".py",
   "mimetype": "text/x-python",
   "name": "python",
   "nbconvert_exporter": "python",
   "pygments_lexer": "ipython3",
   "version": "3.11.11"
  }
 },
 "nbformat": 4,
 "nbformat_minor": 5
}
