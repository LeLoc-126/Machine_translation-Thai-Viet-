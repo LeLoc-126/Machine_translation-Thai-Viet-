{
 "cells": [
  {
   "cell_type": "code",
   "execution_count": 1,
   "id": "868c1b12",
   "metadata": {},
   "outputs": [],
   "source": [
    "with open('/home/leloc/Document/USTH/Thesis/Data/flores200_dataset/devtest/tha_Thai.devtest', 'r', encoding='utf-8') as f:\n",
    "    source_sentences = [line.strip() for line in f if line.strip()]\n"
   ]
  },
  {
   "cell_type": "code",
   "execution_count": 2,
   "id": "475ef8f2",
   "metadata": {},
   "outputs": [
    {
     "name": "stdout",
     "output_type": "stream",
     "text": [
      "Lỗi dịch câu 96: the JSON object must be str, bytes or bytearray, not NoneType\n",
      "Lỗi dịch câu 154: the JSON object must be str, bytes or bytearray, not NoneType\n",
      "Lỗi dịch câu 339: _ssl.c:989: The handshake operation timed out\n",
      "Lỗi dịch câu 565: The read operation timed out\n",
      "Lỗi dịch câu 773: The read operation timed out\n"
     ]
    }
   ],
   "source": [
    "from googletrans import Translator\n",
    "import time\n",
    "\n",
    "translator = Translator()\n",
    "\n",
    "hypotheses = []\n",
    "for idx, sentence in enumerate(source_sentences):\n",
    "    try:\n",
    "        translation = translator.translate(sentence, src='th', dest='vi')\n",
    "        hypotheses.append(translation.text)\n",
    "    except Exception as e:\n",
    "        print(f\"Lỗi dịch câu {idx}: {e}\")\n",
    "        hypotheses.append(\"\")  # Nếu lỗi thì thêm chuỗi rỗng tránh crash\n",
    "    time.sleep(0.5)  # Sleep nhẹ để tránh bị Google block\n"
   ]
  },
  {
   "cell_type": "code",
   "execution_count": 3,
   "id": "cc1edcce",
   "metadata": {},
   "outputs": [],
   "source": [
    "with open('/home/leloc/Document/USTH/Thesis/Data/flores200_dataset/devtest/vie_Latn.devtest', 'r', encoding='utf-8') as f:\n",
    "    references = [line.strip() for line in f if line.strip()]\n",
    "references = [references]  # sacrebleu expects list of list\n"
   ]
  },
  {
   "cell_type": "code",
   "execution_count": 4,
   "id": "41582e99",
   "metadata": {},
   "outputs": [
    {
     "name": "stdout",
     "output_type": "stream",
     "text": [
      "BLEU score: 21.90909197881387\n"
     ]
    }
   ],
   "source": [
    "import sacrebleu\n",
    "\n",
    "bleu = sacrebleu.corpus_bleu(hypotheses, references)\n",
    "print(f\"BLEU score: {bleu.score}\")\n"
   ]
  }
 ],
 "metadata": {
  "kernelspec": {
   "display_name": "translate",
   "language": "python",
   "name": "python3"
  },
  "language_info": {
   "codemirror_mode": {
    "name": "ipython",
    "version": 3
   },
   "file_extension": ".py",
   "mimetype": "text/x-python",
   "name": "python",
   "nbconvert_exporter": "python",
   "pygments_lexer": "ipython3",
   "version": "3.11.11"
  }
 },
 "nbformat": 4,
 "nbformat_minor": 5
}
