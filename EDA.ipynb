{
 "cells": [
  {
   "cell_type": "code",
   "execution_count": 33,
   "id": "c5c5c84c",
   "metadata": {},
   "outputs": [],
   "source": [
    "import duckdb\n",
    "import pandas as pd\n",
    "import ast"
   ]
  },
  {
   "cell_type": "code",
   "execution_count": 34,
   "id": "bb77bb0d",
   "metadata": {},
   "outputs": [
    {
     "name": "stdout",
     "output_type": "stream",
     "text": [
      "                                  thai  \\\n",
      "0                    - รร.แกรนด์โฮเต็ล   \n",
      "1                         - สายไม่ว่าง   \n",
      "2                         นั่นใครพูดคะ   \n",
      "3  ฉันจะโอนสายคุณ ไปที่แผนกรูมเซอร์วิส   \n",
      "4                              ฮัลโหลๆ   \n",
      "\n",
      "                                              viet  \\\n",
      "0                               - Khách sạn Grand.   \n",
      "1                                 - Đường dây bận.   \n",
      "2                                          Ai đấy?   \n",
      "3  Tôi có thể kết nối quý khách với dịch vụ phòng.   \n",
      "4                                            A lô.   \n",
      "\n",
      "                                      thai_input_ids  \\\n",
      "0  [128, 4, 149, 228, 1, 0, 0, 0, 0, 0, 0, 140, 2...   \n",
      "1  [128, 4, 149, 228, 1, 0, 0, 0, 0, 0, 0, 140, 2...   \n",
      "2  [128, 4, 149, 228, 1, 0, 0, 0, 0, 0, 0, 140, 2...   \n",
      "3  [128, 4, 149, 228, 1, 0, 0, 0, 0, 0, 0, 140, 2...   \n",
      "4  [128, 4, 149, 228, 1, 0, 0, 0, 0, 0, 0, 140, 2...   \n",
      "\n",
      "                                 thai_attention_mask  \\\n",
      "0  [128, 4, 149, 228, 1, 0, 0, 0, 0, 0, 0, 140, 2...   \n",
      "1  [128, 4, 149, 228, 1, 0, 0, 0, 0, 0, 0, 140, 2...   \n",
      "2  [128, 4, 149, 228, 1, 0, 0, 0, 0, 0, 0, 140, 2...   \n",
      "3  [128, 4, 149, 228, 1, 0, 0, 0, 0, 0, 0, 140, 2...   \n",
      "4  [128, 4, 149, 228, 1, 0, 0, 0, 0, 0, 0, 140, 2...   \n",
      "\n",
      "                                        vi_input_ids  \\\n",
      "0  [128, 4, 149, 196, 1, 0, 0, 0, 0, 0, 0, 140, 2...   \n",
      "1  [128, 4, 149, 196, 1, 0, 0, 0, 0, 0, 0, 140, 2...   \n",
      "2  [128, 4, 149, 196, 1, 0, 0, 0, 0, 0, 0, 140, 2...   \n",
      "3  [128, 4, 149, 196, 1, 0, 0, 0, 0, 0, 0, 140, 2...   \n",
      "4  [128, 4, 149, 196, 1, 0, 0, 0, 0, 0, 0, 140, 2...   \n",
      "\n",
      "                                   vi_attention_mask  \n",
      "0  [128, 4, 149, 196, 1, 0, 0, 0, 0, 0, 0, 140, 2...  \n",
      "1  [128, 4, 149, 196, 1, 0, 0, 0, 0, 0, 0, 140, 2...  \n",
      "2  [128, 4, 149, 196, 1, 0, 0, 0, 0, 0, 0, 140, 2...  \n",
      "3  [128, 4, 149, 196, 1, 0, 0, 0, 0, 0, 0, 140, 2...  \n",
      "4  [128, 4, 149, 196, 1, 0, 0, 0, 0, 0, 0, 140, 2...  \n"
     ]
    }
   ],
   "source": [
    "# Connect to DuckDB (creates a file-based DB)\n",
    "con = duckdb.connect(\"/home/leloc/Document/USTH/Thesis/Data/translation.db\")\n",
    "\n",
    "print(con.execute(\"SELECT * FROM translations LIMIT 5\").fetchdf())"
   ]
  },
  {
   "cell_type": "code",
   "execution_count": 35,
   "id": "4c4fe46c",
   "metadata": {},
   "outputs": [
    {
     "name": "stdout",
     "output_type": "stream",
     "text": [
      "[('tokenized_batches',), ('translations',)]\n"
     ]
    }
   ],
   "source": [
    "tables = con.execute(\"SHOW TABLES\").fetchall()\n",
    "print(tables)"
   ]
  },
  {
   "cell_type": "code",
   "execution_count": 36,
   "id": "c40acd23",
   "metadata": {},
   "outputs": [
    {
     "name": "stdout",
     "output_type": "stream",
     "text": [
      "                                      thai_input_ids  \\\n",
      "0  [128, 4, 149, 228, 1, 0, 0, 0, 0, 0, 0, 140, 2...   \n",
      "1  [128, 4, 149, 228, 1, 0, 0, 0, 0, 0, 0, 140, 2...   \n",
      "2  [128, 4, 149, 228, 1, 0, 0, 0, 0, 0, 0, 140, 2...   \n",
      "3  [128, 4, 149, 228, 1, 0, 0, 0, 0, 0, 0, 140, 2...   \n",
      "4  [128, 4, 149, 228, 1, 0, 0, 0, 0, 0, 0, 140, 2...   \n",
      "\n",
      "                                        vi_input_ids  \n",
      "0  [128, 4, 149, 196, 1, 0, 0, 0, 0, 0, 0, 140, 2...  \n",
      "1  [128, 4, 149, 196, 1, 0, 0, 0, 0, 0, 0, 140, 2...  \n",
      "2  [128, 4, 149, 196, 1, 0, 0, 0, 0, 0, 0, 140, 2...  \n",
      "3  [128, 4, 149, 196, 1, 0, 0, 0, 0, 0, 0, 140, 2...  \n",
      "4  [128, 4, 149, 196, 1, 0, 0, 0, 0, 0, 0, 140, 2...  \n"
     ]
    }
   ],
   "source": [
    "df = con.execute(\"SELECT thai_input_ids, vi_input_ids FROM translations LIMIT 10\").fetchdf()\n",
    "print(df.head())"
   ]
  },
  {
   "cell_type": "code",
   "execution_count": 37,
   "id": "284ec682",
   "metadata": {},
   "outputs": [
    {
     "name": "stdout",
     "output_type": "stream",
     "text": [
      "thai_input_ids    object\n",
      "vi_input_ids      object\n",
      "dtype: object\n"
     ]
    }
   ],
   "source": [
    "print(df.dtypes)\n"
   ]
  },
  {
   "cell_type": "code",
   "execution_count": 38,
   "id": "f5457f2d",
   "metadata": {},
   "outputs": [
    {
     "name": "stdout",
     "output_type": "stream",
     "text": [
      "   thai_token_len  thai_true_len  viet_token_len  viet_true_len\n",
      "0              43             15              39              7\n",
      "1              43              7              39              8\n",
      "2              43              6              39              5\n",
      "3              43             17              39             14\n",
      "4              43              7              39              5\n",
      "5              43             32              39             21\n",
      "6              43             19              39             21\n",
      "7              43             12              39             12\n",
      "8              43             22              39             16\n",
      "9              43              7              39             10\n"
     ]
    }
   ],
   "source": [
    "import pickle\n",
    "\n",
    "# Hàm để giải mã pickle (từ byte sang list token)\n",
    "def decode_pickle_data(x):\n",
    "    try:\n",
    "        return pickle.loads(x)\n",
    "    except Exception as e:\n",
    "        print(\"Lỗi giải mã pickle:\", e)\n",
    "        return []\n",
    "\n",
    "# Giải mã pickle thành list\n",
    "df[\"thai_input_ids\"] = df[\"thai_input_ids\"].apply(decode_pickle_data)\n",
    "df[\"vi_input_ids\"] = df[\"vi_input_ids\"].apply(decode_pickle_data)\n",
    "\n",
    "# Định nghĩa padding token (thường là 0 và 1)\n",
    "PADDING_IDS = {0, 1}\n",
    "\n",
    "# Tính độ dài thật sự (không tính padding)\n",
    "df[\"thai_true_len\"] = df[\"thai_input_ids\"].apply(lambda x: len([t for t in x if t not in PADDING_IDS]))\n",
    "df[\"viet_true_len\"] = df[\"vi_input_ids\"].apply(lambda x: len([t for t in x if t not in PADDING_IDS]))\n",
    "\n",
    "# Tính độ dài toàn bộ chuỗi token (bao gồm padding)\n",
    "df['thai_token_len'] = df['thai_input_ids'].apply(len)\n",
    "df['viet_token_len'] = df['vi_input_ids'].apply(len)\n",
    "\n",
    "# In ra so sánh\n",
    "print(df[['thai_token_len', 'thai_true_len', 'viet_token_len', 'viet_true_len']])\n"
   ]
  },
  {
   "cell_type": "code",
   "execution_count": null,
   "id": "901f3536",
   "metadata": {},
   "outputs": [
    {
     "data": {
      "application/vnd.jupyter.widget-view+json": {
       "model_id": "0cbbd9026906413a9cc5b9c7359551bb",
       "version_major": 2,
       "version_minor": 0
      },
      "text/plain": [
       "FloatProgress(value=0.0, layout=Layout(width='auto'), style=ProgressStyle(bar_color='black'))"
      ]
     },
     "metadata": {},
     "output_type": "display_data"
    },
    {
     "ename": "InvalidInputException",
     "evalue": "Invalid Input Error: Python exception occurred while executing the UDF: KeyboardInterrupt: <EMPTY MESSAGE>\n\nAt:\n  C:\\Users\\Acer\\AppData\\Local\\Temp\\ipykernel_22736\\2889407501.py(9): hf_token_len\n  C:\\Users\\Acer\\AppData\\Local\\Temp\\ipykernel_22736\\2889407501.py(38): <module>\n  c:\\Users\\Acer\\anaconda3\\envs\\thesis\\Lib\\site-packages\\IPython\\core\\interactiveshell.py(3549): run_code\n  c:\\Users\\Acer\\anaconda3\\envs\\thesis\\Lib\\site-packages\\IPython\\core\\interactiveshell.py(3489): run_ast_nodes\n  c:\\Users\\Acer\\anaconda3\\envs\\thesis\\Lib\\site-packages\\IPython\\core\\interactiveshell.py(3306): run_cell_async\n  c:\\Users\\Acer\\anaconda3\\envs\\thesis\\Lib\\site-packages\\IPython\\core\\async_helpers.py(128): _pseudo_sync_runner\n  c:\\Users\\Acer\\anaconda3\\envs\\thesis\\Lib\\site-packages\\IPython\\core\\interactiveshell.py(3102): _run_cell\n  c:\\Users\\Acer\\anaconda3\\envs\\thesis\\Lib\\site-packages\\IPython\\core\\interactiveshell.py(3047): run_cell\n  c:\\Users\\Acer\\anaconda3\\envs\\thesis\\Lib\\site-packages\\ipykernel\\zmqshell.py(549): run_cell\n  c:\\Users\\Acer\\anaconda3\\envs\\thesis\\Lib\\site-packages\\ipykernel\\ipkernel.py(449): do_execute\n  c:\\Users\\Acer\\anaconda3\\envs\\thesis\\Lib\\site-packages\\ipykernel\\kernelbase.py(778): execute_request\n  c:\\Users\\Acer\\anaconda3\\envs\\thesis\\Lib\\site-packages\\ipykernel\\ipkernel.py(362): execute_request\n  c:\\Users\\Acer\\anaconda3\\envs\\thesis\\Lib\\site-packages\\ipykernel\\kernelbase.py(437): dispatch_shell\n  c:\\Users\\Acer\\anaconda3\\envs\\thesis\\Lib\\site-packages\\ipykernel\\kernelbase.py(534): process_one\n  c:\\Users\\Acer\\anaconda3\\envs\\thesis\\Lib\\site-packages\\ipykernel\\kernelbase.py(545): dispatch_queue\n  c:\\Users\\Acer\\anaconda3\\envs\\thesis\\Lib\\asyncio\\events.py(84): _run\n  c:\\Users\\Acer\\anaconda3\\envs\\thesis\\Lib\\asyncio\\base_events.py(1936): _run_once\n  c:\\Users\\Acer\\anaconda3\\envs\\thesis\\Lib\\asyncio\\base_events.py(608): run_forever\n  c:\\Users\\Acer\\anaconda3\\envs\\thesis\\Lib\\site-packages\\tornado\\platform\\asyncio.py(205): start\n  c:\\Users\\Acer\\anaconda3\\envs\\thesis\\Lib\\site-packages\\ipykernel\\kernelapp.py(739): start\n  c:\\Users\\Acer\\anaconda3\\envs\\thesis\\Lib\\site-packages\\traitlets\\config\\application.py(1075): launch_instance\n  c:\\Users\\Acer\\anaconda3\\envs\\thesis\\Lib\\site-packages\\ipykernel_launcher.py(18): <module>\n  <frozen runpy>(88): _run_code\n  <frozen runpy>(198): _run_module_as_main\n",
     "output_type": "error",
     "traceback": [
      "\u001b[31m---------------------------------------------------------------------------\u001b[39m",
      "\u001b[31mInvalidInputException\u001b[39m                     Traceback (most recent call last)",
      "\u001b[36mCell\u001b[39m\u001b[36m \u001b[39m\u001b[32mIn[9]\u001b[39m\u001b[32m, line 38\u001b[39m\n\u001b[32m     27\u001b[39m \u001b[38;5;66;03m# Load data with SQL\u001b[39;00m\n\u001b[32m     28\u001b[39m query = \u001b[33mf\u001b[39m\u001b[33m\"\"\"\u001b[39m\n\u001b[32m     29\u001b[39m \u001b[33mSELECT \u001b[39m\n\u001b[32m     30\u001b[39m \u001b[33m    *,\u001b[39m\n\u001b[32m   (...)\u001b[39m\u001b[32m     35\u001b[39m \u001b[33mFROM read_csv_auto(\u001b[39m\u001b[33m'\u001b[39m\u001b[38;5;132;01m{\u001b[39;00mcsv_path\u001b[38;5;132;01m}\u001b[39;00m\u001b[33m'\u001b[39m\u001b[33m, delim=\u001b[39m\u001b[33m'\u001b[39m\u001b[33m,\u001b[39m\u001b[33m'\u001b[39m\u001b[33m, header=True)\u001b[39m\n\u001b[32m     36\u001b[39m \u001b[33m\"\"\"\u001b[39m\n\u001b[32m---> \u001b[39m\u001b[32m38\u001b[39m df = \u001b[43mcon\u001b[49m\u001b[43m.\u001b[49m\u001b[43mexecute\u001b[49m\u001b[43m(\u001b[49m\u001b[43mquery\u001b[49m\u001b[43m)\u001b[49m\u001b[43m.\u001b[49m\u001b[43mfetchdf\u001b[49m\u001b[43m(\u001b[49m\u001b[43m)\u001b[49m\n\u001b[32m     39\u001b[39m \u001b[38;5;28mprint\u001b[39m(df.head())\n",
      "\u001b[31mInvalidInputException\u001b[39m: Invalid Input Error: Python exception occurred while executing the UDF: KeyboardInterrupt: <EMPTY MESSAGE>\n\nAt:\n  C:\\Users\\Acer\\AppData\\Local\\Temp\\ipykernel_22736\\2889407501.py(9): hf_token_len\n  C:\\Users\\Acer\\AppData\\Local\\Temp\\ipykernel_22736\\2889407501.py(38): <module>\n  c:\\Users\\Acer\\anaconda3\\envs\\thesis\\Lib\\site-packages\\IPython\\core\\interactiveshell.py(3549): run_code\n  c:\\Users\\Acer\\anaconda3\\envs\\thesis\\Lib\\site-packages\\IPython\\core\\interactiveshell.py(3489): run_ast_nodes\n  c:\\Users\\Acer\\anaconda3\\envs\\thesis\\Lib\\site-packages\\IPython\\core\\interactiveshell.py(3306): run_cell_async\n  c:\\Users\\Acer\\anaconda3\\envs\\thesis\\Lib\\site-packages\\IPython\\core\\async_helpers.py(128): _pseudo_sync_runner\n  c:\\Users\\Acer\\anaconda3\\envs\\thesis\\Lib\\site-packages\\IPython\\core\\interactiveshell.py(3102): _run_cell\n  c:\\Users\\Acer\\anaconda3\\envs\\thesis\\Lib\\site-packages\\IPython\\core\\interactiveshell.py(3047): run_cell\n  c:\\Users\\Acer\\anaconda3\\envs\\thesis\\Lib\\site-packages\\ipykernel\\zmqshell.py(549): run_cell\n  c:\\Users\\Acer\\anaconda3\\envs\\thesis\\Lib\\site-packages\\ipykernel\\ipkernel.py(449): do_execute\n  c:\\Users\\Acer\\anaconda3\\envs\\thesis\\Lib\\site-packages\\ipykernel\\kernelbase.py(778): execute_request\n  c:\\Users\\Acer\\anaconda3\\envs\\thesis\\Lib\\site-packages\\ipykernel\\ipkernel.py(362): execute_request\n  c:\\Users\\Acer\\anaconda3\\envs\\thesis\\Lib\\site-packages\\ipykernel\\kernelbase.py(437): dispatch_shell\n  c:\\Users\\Acer\\anaconda3\\envs\\thesis\\Lib\\site-packages\\ipykernel\\kernelbase.py(534): process_one\n  c:\\Users\\Acer\\anaconda3\\envs\\thesis\\Lib\\site-packages\\ipykernel\\kernelbase.py(545): dispatch_queue\n  c:\\Users\\Acer\\anaconda3\\envs\\thesis\\Lib\\asyncio\\events.py(84): _run\n  c:\\Users\\Acer\\anaconda3\\envs\\thesis\\Lib\\asyncio\\base_events.py(1936): _run_once\n  c:\\Users\\Acer\\anaconda3\\envs\\thesis\\Lib\\asyncio\\base_events.py(608): run_forever\n  c:\\Users\\Acer\\anaconda3\\envs\\thesis\\Lib\\site-packages\\tornado\\platform\\asyncio.py(205): start\n  c:\\Users\\Acer\\anaconda3\\envs\\thesis\\Lib\\site-packages\\ipykernel\\kernelapp.py(739): start\n  c:\\Users\\Acer\\anaconda3\\envs\\thesis\\Lib\\site-packages\\traitlets\\config\\application.py(1075): launch_instance\n  c:\\Users\\Acer\\anaconda3\\envs\\thesis\\Lib\\site-packages\\ipykernel_launcher.py(18): <module>\n  <frozen runpy>(88): _run_code\n  <frozen runpy>(198): _run_module_as_main\n"
     ]
    }
   ],
   "source": []
  },
  {
   "cell_type": "code",
   "execution_count": null,
   "id": "2cfaa901",
   "metadata": {},
   "outputs": [],
   "source": []
  }
 ],
 "metadata": {
  "kernelspec": {
   "display_name": "translate",
   "language": "python",
   "name": "python3"
  },
  "language_info": {
   "codemirror_mode": {
    "name": "ipython",
    "version": 3
   },
   "file_extension": ".py",
   "mimetype": "text/x-python",
   "name": "python",
   "nbconvert_exporter": "python",
   "pygments_lexer": "ipython3",
   "version": "3.11.11"
  }
 },
 "nbformat": 4,
 "nbformat_minor": 5
}
