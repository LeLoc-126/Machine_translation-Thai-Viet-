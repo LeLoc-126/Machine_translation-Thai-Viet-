{
 "cells": [
  {
   "cell_type": "code",
   "execution_count": 70,
   "metadata": {},
   "outputs": [],
   "source": [
    "import pandas as pd\n",
    "df = pd.read_csv('output.csv')"
   ]
  },
  {
   "cell_type": "code",
   "execution_count": 62,
   "metadata": {},
   "outputs": [
    {
     "data": {
      "text/html": [
       "<div>\n",
       "<style scoped>\n",
       "    .dataframe tbody tr th:only-of-type {\n",
       "        vertical-align: middle;\n",
       "    }\n",
       "\n",
       "    .dataframe tbody tr th {\n",
       "        vertical-align: top;\n",
       "    }\n",
       "\n",
       "    .dataframe thead th {\n",
       "        text-align: right;\n",
       "    }\n",
       "</style>\n",
       "<table border=\"1\" class=\"dataframe\">\n",
       "  <thead>\n",
       "    <tr style=\"text-align: right;\">\n",
       "      <th></th>\n",
       "      <th>Thai</th>\n",
       "      <th>Viet</th>\n",
       "    </tr>\n",
       "  </thead>\n",
       "  <tbody>\n",
       "    <tr>\n",
       "      <th>0</th>\n",
       "      <td>- รร.แกรนด์โฮเต็ล</td>\n",
       "      <td>- Khách sạn Grand.</td>\n",
       "    </tr>\n",
       "    <tr>\n",
       "      <th>1</th>\n",
       "      <td>- สายไม่ว่าง</td>\n",
       "      <td>- Đường dây bận.</td>\n",
       "    </tr>\n",
       "    <tr>\n",
       "      <th>2</th>\n",
       "      <td>นั่นใครพูดคะ</td>\n",
       "      <td>Ai đấy?</td>\n",
       "    </tr>\n",
       "    <tr>\n",
       "      <th>3</th>\n",
       "      <td>ฉันจะโอนสายคุณ ไปที่แผนกรูมเซอร์วิส</td>\n",
       "      <td>Tôi có thể kết nối quý khách với dịch vụ phòng.</td>\n",
       "    </tr>\n",
       "    <tr>\n",
       "      <th>4</th>\n",
       "      <td>ฮัลโหลๆ</td>\n",
       "      <td>A lô.</td>\n",
       "    </tr>\n",
       "    <tr>\n",
       "      <th>...</th>\n",
       "      <td>...</td>\n",
       "      <td>...</td>\n",
       "    </tr>\n",
       "    <tr>\n",
       "      <th>17001633</th>\n",
       "      <td>นั่นใครน่ะ</td>\n",
       "      <td>Ai thế?</td>\n",
       "    </tr>\n",
       "    <tr>\n",
       "      <th>17001634</th>\n",
       "      <td>มิราห์</td>\n",
       "      <td>Mirah?</td>\n",
       "    </tr>\n",
       "    <tr>\n",
       "      <th>17001635</th>\n",
       "      <td>เธอตามอาเบลกลับมาบ้านเหรอ</td>\n",
       "      <td>Cô đi theo Abel về nhà phải không?</td>\n",
       "    </tr>\n",
       "    <tr>\n",
       "      <th>17001636</th>\n",
       "      <td>เธอต้องการอะไร</td>\n",
       "      <td>Cô muốn gì?</td>\n",
       "    </tr>\n",
       "    <tr>\n",
       "      <th>17001637</th>\n",
       "      <td>(คำบรรยายโดย วรพล ถาวรวรานนท์)</td>\n",
       "      <td>Chuyển ngữ phụ đề bởi Phí Trọng Huy</td>\n",
       "    </tr>\n",
       "  </tbody>\n",
       "</table>\n",
       "<p>17001638 rows × 2 columns</p>\n",
       "</div>"
      ],
      "text/plain": [
       "                                         Thai  \\\n",
       "0                           - รร.แกรนด์โฮเต็ล   \n",
       "1                                - สายไม่ว่าง   \n",
       "2                                นั่นใครพูดคะ   \n",
       "3         ฉันจะโอนสายคุณ ไปที่แผนกรูมเซอร์วิส   \n",
       "4                                     ฮัลโหลๆ   \n",
       "...                                       ...   \n",
       "17001633                           นั่นใครน่ะ   \n",
       "17001634                               มิราห์   \n",
       "17001635            เธอตามอาเบลกลับมาบ้านเหรอ   \n",
       "17001636                       เธอต้องการอะไร   \n",
       "17001637       (คำบรรยายโดย วรพล ถาวรวรานนท์)   \n",
       "\n",
       "                                                     Viet  \n",
       "0                                      - Khách sạn Grand.  \n",
       "1                                        - Đường dây bận.  \n",
       "2                                                 Ai đấy?  \n",
       "3         Tôi có thể kết nối quý khách với dịch vụ phòng.  \n",
       "4                                                   A lô.  \n",
       "...                                                   ...  \n",
       "17001633                                          Ai thế?  \n",
       "17001634                                           Mirah?  \n",
       "17001635               Cô đi theo Abel về nhà phải không?  \n",
       "17001636                                      Cô muốn gì?  \n",
       "17001637              Chuyển ngữ phụ đề bởi Phí Trọng Huy  \n",
       "\n",
       "[17001638 rows x 2 columns]"
      ]
     },
     "execution_count": 62,
     "metadata": {},
     "output_type": "execute_result"
    }
   ],
   "source": [
    "df"
   ]
  },
  {
   "cell_type": "code",
   "execution_count": null,
   "metadata": {},
   "outputs": [
    {
     "name": "stdout",
     "output_type": "stream",
     "text": [
      "2.6.0+cpu\n",
      "False\n"
     ]
    }
   ],
   "source": [
    "import torch\n",
    "print(torch.__version__)\n",
    "print(torch.cuda.is_available())"
   ]
  },
  {
   "cell_type": "code",
   "execution_count": 63,
   "metadata": {},
   "outputs": [
    {
     "data": {
      "text/plain": [
       "Thai    0\n",
       "Viet    0\n",
       "dtype: int64"
      ]
     },
     "execution_count": 63,
     "metadata": {},
     "output_type": "execute_result"
    }
   ],
   "source": [
    "# Check for missing data\n",
    "df.isnull().sum()"
   ]
  },
  {
   "cell_type": "code",
   "execution_count": 64,
   "metadata": {},
   "outputs": [
    {
     "data": {
      "text/html": [
       "<div>\n",
       "<style scoped>\n",
       "    .dataframe tbody tr th:only-of-type {\n",
       "        vertical-align: middle;\n",
       "    }\n",
       "\n",
       "    .dataframe tbody tr th {\n",
       "        vertical-align: top;\n",
       "    }\n",
       "\n",
       "    .dataframe thead th {\n",
       "        text-align: right;\n",
       "    }\n",
       "</style>\n",
       "<table border=\"1\" class=\"dataframe\">\n",
       "  <thead>\n",
       "    <tr style=\"text-align: right;\">\n",
       "      <th></th>\n",
       "      <th>thai_len</th>\n",
       "      <th>viet_len</th>\n",
       "    </tr>\n",
       "  </thead>\n",
       "  <tbody>\n",
       "    <tr>\n",
       "      <th>count</th>\n",
       "      <td>1.700164e+07</td>\n",
       "      <td>1.700164e+07</td>\n",
       "    </tr>\n",
       "    <tr>\n",
       "      <th>mean</th>\n",
       "      <td>1.864862e+00</td>\n",
       "      <td>7.783794e+00</td>\n",
       "    </tr>\n",
       "    <tr>\n",
       "      <th>std</th>\n",
       "      <td>1.069208e+00</td>\n",
       "      <td>5.317196e+00</td>\n",
       "    </tr>\n",
       "    <tr>\n",
       "      <th>min</th>\n",
       "      <td>1.000000e+00</td>\n",
       "      <td>1.000000e+00</td>\n",
       "    </tr>\n",
       "    <tr>\n",
       "      <th>25%</th>\n",
       "      <td>1.000000e+00</td>\n",
       "      <td>4.000000e+00</td>\n",
       "    </tr>\n",
       "    <tr>\n",
       "      <th>50%</th>\n",
       "      <td>2.000000e+00</td>\n",
       "      <td>7.000000e+00</td>\n",
       "    </tr>\n",
       "    <tr>\n",
       "      <th>75%</th>\n",
       "      <td>2.000000e+00</td>\n",
       "      <td>1.000000e+01</td>\n",
       "    </tr>\n",
       "    <tr>\n",
       "      <th>max</th>\n",
       "      <td>4.300000e+01</td>\n",
       "      <td>3.180000e+02</td>\n",
       "    </tr>\n",
       "  </tbody>\n",
       "</table>\n",
       "</div>"
      ],
      "text/plain": [
       "           thai_len      viet_len\n",
       "count  1.700164e+07  1.700164e+07\n",
       "mean   1.864862e+00  7.783794e+00\n",
       "std    1.069208e+00  5.317196e+00\n",
       "min    1.000000e+00  1.000000e+00\n",
       "25%    1.000000e+00  4.000000e+00\n",
       "50%    2.000000e+00  7.000000e+00\n",
       "75%    2.000000e+00  1.000000e+01\n",
       "max    4.300000e+01  3.180000e+02"
      ]
     },
     "execution_count": 64,
     "metadata": {},
     "output_type": "execute_result"
    }
   ],
   "source": [
    "# length sequence\n",
    "df['thai_len'] = df['Thai'].str.split().str.len()\n",
    "df['viet_len'] = df['Viet'].str.split().str.len()\n",
    "df[['thai_len', 'viet_len']].describe()\n"
   ]
  },
  {
   "cell_type": "code",
   "execution_count": 75,
   "metadata": {},
   "outputs": [
    {
     "data": {
      "text/plain": [
       "np.int64(0)"
      ]
     },
     "execution_count": 75,
     "metadata": {},
     "output_type": "execute_result"
    }
   ],
   "source": [
    "df.duplicated().sum()                         \n"
   ]
  },
  {
   "cell_type": "code",
   "execution_count": 76,
   "metadata": {},
   "outputs": [
    {
     "data": {
      "text/plain": [
       "np.int64(1860982)"
      ]
     },
     "execution_count": 76,
     "metadata": {},
     "output_type": "execute_result"
    }
   ],
   "source": [
    "df.duplicated(subset='Viet').sum()      "
   ]
  },
  {
   "cell_type": "code",
   "execution_count": 77,
   "metadata": {},
   "outputs": [
    {
     "data": {
      "text/plain": [
       "np.int64(1877126)"
      ]
     },
     "execution_count": 77,
     "metadata": {},
     "output_type": "execute_result"
    }
   ],
   "source": [
    "df.duplicated(subset='Thai').sum()      \n"
   ]
  },
  {
   "cell_type": "code",
   "execution_count": 74,
   "metadata": {},
   "outputs": [],
   "source": [
    "df = df.drop_duplicates()"
   ]
  },
  {
   "cell_type": "code",
   "execution_count": 78,
   "metadata": {},
   "outputs": [
    {
     "data": {
      "text/html": [
       "<div>\n",
       "<style scoped>\n",
       "    .dataframe tbody tr th:only-of-type {\n",
       "        vertical-align: middle;\n",
       "    }\n",
       "\n",
       "    .dataframe tbody tr th {\n",
       "        vertical-align: top;\n",
       "    }\n",
       "\n",
       "    .dataframe thead th {\n",
       "        text-align: right;\n",
       "    }\n",
       "</style>\n",
       "<table border=\"1\" class=\"dataframe\">\n",
       "  <thead>\n",
       "    <tr style=\"text-align: right;\">\n",
       "      <th></th>\n",
       "      <th>Thai</th>\n",
       "      <th>Viet</th>\n",
       "    </tr>\n",
       "  </thead>\n",
       "  <tbody>\n",
       "    <tr>\n",
       "      <th>0</th>\n",
       "      <td>- รร.แกรนด์โฮเต็ล</td>\n",
       "      <td>- Khách sạn Grand.</td>\n",
       "    </tr>\n",
       "    <tr>\n",
       "      <th>1</th>\n",
       "      <td>- สายไม่ว่าง</td>\n",
       "      <td>- Đường dây bận.</td>\n",
       "    </tr>\n",
       "    <tr>\n",
       "      <th>2</th>\n",
       "      <td>นั่นใครพูดคะ</td>\n",
       "      <td>Ai đấy?</td>\n",
       "    </tr>\n",
       "    <tr>\n",
       "      <th>3</th>\n",
       "      <td>ฉันจะโอนสายคุณ ไปที่แผนกรูมเซอร์วิส</td>\n",
       "      <td>Tôi có thể kết nối quý khách với dịch vụ phòng.</td>\n",
       "    </tr>\n",
       "    <tr>\n",
       "      <th>4</th>\n",
       "      <td>ฮัลโหลๆ</td>\n",
       "      <td>A lô.</td>\n",
       "    </tr>\n",
       "    <tr>\n",
       "      <th>...</th>\n",
       "      <td>...</td>\n",
       "      <td>...</td>\n",
       "    </tr>\n",
       "    <tr>\n",
       "      <th>17001623</th>\n",
       "      <td>ทำไมพระเจ้าถึงมอบความสามารถนี้ให้กับเรา</td>\n",
       "      <td>Tại sao Chúa lại ban cho bọn cháu khả năng này?</td>\n",
       "    </tr>\n",
       "    <tr>\n",
       "      <th>17001625</th>\n",
       "      <td>ไม่ว่าพระเจ้าจะให้อะไรเรามา จะดีหรือร้าย เราก็...</td>\n",
       "      <td>Dù Chúa ban gì cho ta, dù tốt hay xấu, thì ta ...</td>\n",
       "    </tr>\n",
       "    <tr>\n",
       "      <th>17001627</th>\n",
       "      <td>เพราะมัน เราจึงได้มีชีวิตอย่างไร้ซึ่งสิ่งติดค้าง</td>\n",
       "      <td>Vì có nó, ta có thể sống một cuộc sống không c...</td>\n",
       "    </tr>\n",
       "    <tr>\n",
       "      <th>17001628</th>\n",
       "      <td>พวกเราที่ได้เปิดดวงตาที่สามนั้น มีชีวิตอยู่ก็เ...</td>\n",
       "      <td>Những người đã mở con mắt thứ ba như chúng ta ...</td>\n",
       "    </tr>\n",
       "    <tr>\n",
       "      <th>17001632</th>\n",
       "      <td>ถ้าหนูบอกพี่ก่อน พี่จะเชื่อหนูเหรอ</td>\n",
       "      <td>Nếu em nói sớm hơn thì chị có tin em không?</td>\n",
       "    </tr>\n",
       "  </tbody>\n",
       "</table>\n",
       "<p>15193992 rows × 2 columns</p>\n",
       "</div>"
      ],
      "text/plain": [
       "                                                       Thai  \\\n",
       "0                                         - รร.แกรนด์โฮเต็ล   \n",
       "1                                              - สายไม่ว่าง   \n",
       "2                                              นั่นใครพูดคะ   \n",
       "3                       ฉันจะโอนสายคุณ ไปที่แผนกรูมเซอร์วิส   \n",
       "4                                                   ฮัลโหลๆ   \n",
       "...                                                     ...   \n",
       "17001623            ทำไมพระเจ้าถึงมอบความสามารถนี้ให้กับเรา   \n",
       "17001625  ไม่ว่าพระเจ้าจะให้อะไรเรามา จะดีหรือร้าย เราก็...   \n",
       "17001627   เพราะมัน เราจึงได้มีชีวิตอย่างไร้ซึ่งสิ่งติดค้าง   \n",
       "17001628  พวกเราที่ได้เปิดดวงตาที่สามนั้น มีชีวิตอยู่ก็เ...   \n",
       "17001632                 ถ้าหนูบอกพี่ก่อน พี่จะเชื่อหนูเหรอ   \n",
       "\n",
       "                                                       Viet  \n",
       "0                                        - Khách sạn Grand.  \n",
       "1                                          - Đường dây bận.  \n",
       "2                                                   Ai đấy?  \n",
       "3           Tôi có thể kết nối quý khách với dịch vụ phòng.  \n",
       "4                                                     A lô.  \n",
       "...                                                     ...  \n",
       "17001623    Tại sao Chúa lại ban cho bọn cháu khả năng này?  \n",
       "17001625  Dù Chúa ban gì cho ta, dù tốt hay xấu, thì ta ...  \n",
       "17001627  Vì có nó, ta có thể sống một cuộc sống không c...  \n",
       "17001628  Những người đã mở con mắt thứ ba như chúng ta ...  \n",
       "17001632        Nếu em nói sớm hơn thì chị có tin em không?  \n",
       "\n",
       "[15193992 rows x 2 columns]"
      ]
     },
     "execution_count": 78,
     "metadata": {},
     "output_type": "execute_result"
    }
   ],
   "source": [
    "df"
   ]
  },
  {
   "cell_type": "code",
   "execution_count": 79,
   "metadata": {},
   "outputs": [],
   "source": [
    "df.to_csv('preprocess.csv', index = False)"
   ]
  }
 ],
 "metadata": {
  "kernelspec": {
   "display_name": "thesis",
   "language": "python",
   "name": "python3"
  },
  "language_info": {
   "codemirror_mode": {
    "name": "ipython",
    "version": 3
   },
   "file_extension": ".py",
   "mimetype": "text/x-python",
   "name": "python",
   "nbconvert_exporter": "python",
   "pygments_lexer": "ipython3",
   "version": "3.11.11"
  }
 },
 "nbformat": 4,
 "nbformat_minor": 2
}
