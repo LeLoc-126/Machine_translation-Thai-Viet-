{
 "cells": [
  {
   "cell_type": "code",
   "execution_count": 1,
   "metadata": {},
   "outputs": [
    {
     "data": {
      "text/plain": [
       "'Mussolini sẽ nói chuyện... với toàn thể công dân Italia.\\n'"
      ]
     },
     "execution_count": 1,
     "metadata": {},
     "output_type": "execute_result"
    }
   ],
   "source": [
    "import pandas as pd\n",
    "import os\n",
    "# Path to your .xml.gz file\n",
    "viet_file = r\"c:\\Carrer\\Data_science\\Thesis_bachelor\\Data\\vi.txt\"\n",
    "thai_file = r\"c:\\Carrer\\Data_science\\Thesis_bachelor\\Data\\th.txt\"\n",
    "\n",
    "with open(viet_file, \"r\", encoding=\"utf-8\") as v:\n",
    "    viet_lines = v.readlines()\n",
    "\n",
    "\n",
    "viet_lines[5]\n"
   ]
  },
  {
   "cell_type": "code",
   "execution_count": 13,
   "metadata": {},
   "outputs": [
    {
     "data": {
      "text/plain": [
       "'เฮจิน มันไม่ใช่อย่างนั้นนะ...\\n'"
      ]
     },
     "execution_count": 13,
     "metadata": {},
     "output_type": "execute_result"
    }
   ],
   "source": [
    "with open(thai_file, \"r\", encoding=\"utf-8\") as t:\n",
    "    thai_lines = t.readlines()\n",
    "\n",
    "thai_lines[5]"
   ]
  },
  {
   "cell_type": "code",
   "execution_count": 17,
   "metadata": {},
   "outputs": [
    {
     "name": "stdout",
     "output_type": "stream",
     "text": [
      "✅ Lưu thành công tại: c:\\Carrer\\Data_science\\Thesis_bachelor\\Data\\thai_vietnamese.csv\n"
     ]
    }
   ],
   "source": [
    "min_length = min(len(thai_lines), len(viet_lines))\n",
    "thai_lines, viet_lines = thai_lines[:min_length], viet_lines[:min_length]\n",
    "\n",
    "# Tạo DataFrame\n",
    "df = pd.DataFrame({\"Thai\": thai_lines, \"Vietnamese\": viet_lines})\n",
    "\n",
    "# Lưu vào file Excel\n",
    "csv_path = r\"c:\\Carrer\\Data_science\\Thesis_bachelor\\Data\\thai_vietnamese.csv\"\n",
    "df.to_csv(csv_path, index=False, encoding=\"utf-8\")\n",
    "\n",
    "print(f\"✅ Lưu thành công tại: {csv_path}\")\n"
   ]
  },
  {
   "cell_type": "code",
   "execution_count": 32,
   "metadata": {},
   "outputs": [
    {
     "name": "stdout",
     "output_type": "stream",
     "text": [
      "Đã lưu dữ liệu vào file output.csv\n"
     ]
    }
   ],
   "source": [
    "import csv\n",
    "\n",
    "# Đường dẫn tới 2 file\n",
    "vi1 = r\"c:\\Carrer\\Data_science\\Thesis_bachelor\\Data\\KDE4.th-vi.vi\"\n",
    "vi2 = r\"c:\\Carrer\\Data_science\\Thesis_bachelor\\Data\\KDE4.th-vi.th\"\n",
    "\n",
    "# Đọc nội dung của 2 file\n",
    "with open(vi1, 'r', encoding='utf-8') as file1, open(vi2, 'r', encoding='utf-8') as file2:\n",
    "    content1 = file1.readlines()\n",
    "    content2 = file2.readlines()\n",
    "\n",
    "# Đảm bảo rằng cả hai file có cùng số dòng\n",
    "if len(content1) != len(content2):\n",
    "    raise ValueError(\"Số dòng trong hai file không khớp.\")\n",
    "\n",
    "# Tạo file CSV và ghi dữ liệu với BOM\n",
    "csv_filename = r\"output.csv\"\n",
    "with open(csv_filename, 'w', newline='', encoding='utf-8-sig') as csvfile:\n",
    "    writer = csv.writer(csvfile)\n",
    "    # Ghi tiêu đề cho các cột\n",
    "    writer.writerow(['File 1 Content', 'File 2 Content'])\n",
    "    \n",
    "    # Ghi từng dòng của 2 file vào CSV\n",
    "    for line1, line2 in zip(content1, content2):\n",
    "        writer.writerow([line1.strip(), line2.strip()])\n",
    "\n",
    "print(f\"Đã lưu dữ liệu vào file {csv_filename}\")\n"
   ]
  },
  {
   "cell_type": "code",
   "execution_count": 2,
   "metadata": {},
   "outputs": [],
   "source": [
    "import pandas as pd\n",
    "df = pd.read_csv('c:\\Carrer\\Data_science\\Thesis_bachelor\\Data\\output.csv')"
   ]
  },
  {
   "cell_type": "code",
   "execution_count": 3,
   "metadata": {},
   "outputs": [
    {
     "data": {
      "text/html": [
       "<div>\n",
       "<style scoped>\n",
       "    .dataframe tbody tr th:only-of-type {\n",
       "        vertical-align: middle;\n",
       "    }\n",
       "\n",
       "    .dataframe tbody tr th {\n",
       "        vertical-align: top;\n",
       "    }\n",
       "\n",
       "    .dataframe thead th {\n",
       "        text-align: right;\n",
       "    }\n",
       "</style>\n",
       "<table border=\"1\" class=\"dataframe\">\n",
       "  <thead>\n",
       "    <tr style=\"text-align: right;\">\n",
       "      <th></th>\n",
       "      <th>File 1 Content</th>\n",
       "      <th>File 2 Content</th>\n",
       "    </tr>\n",
       "  </thead>\n",
       "  <tbody>\n",
       "    <tr>\n",
       "      <th>0</th>\n",
       "      <td>Thêm nguồn tin cho Akregator</td>\n",
       "      <td>เพิ่มแหล่งป้อนไปยัง Akregator</td>\n",
       "    </tr>\n",
       "    <tr>\n",
       "      <th>1</th>\n",
       "      <td>Thêm các nguồn tin cho Akregator</td>\n",
       "      <td>เพิ่มแหล่งป้อนไปยัง Akregator</td>\n",
       "    </tr>\n",
       "    <tr>\n",
       "      <th>2</th>\n",
       "      <td>Thêm mọi nguồn tin cho Akregator</td>\n",
       "      <td>เพิ่มแหล่งป้อนที่พบทั้งหมดไปยัง Akregator</td>\n",
       "    </tr>\n",
       "    <tr>\n",
       "      <th>3</th>\n",
       "      <td>Theo dõi chỗ Mạng này tìm bản cập nhật (dùng n...</td>\n",
       "      <td>บอกรับการปรับปรุงของเว็บไซต์ (โดยใช้แหล่งป้อนห...</td>\n",
       "    </tr>\n",
       "    <tr>\n",
       "      <th>4</th>\n",
       "      <td>Nguồn tin đã nhập</td>\n",
       "      <td>นำเข้าแหล่งป้อนแล้ว</td>\n",
       "    </tr>\n",
       "    <tr>\n",
       "      <th>...</th>\n",
       "      <td>...</td>\n",
       "      <td>...</td>\n",
       "    </tr>\n",
       "    <tr>\n",
       "      <th>34765</th>\n",
       "      <td>Liên lạcPhonon::</td>\n",
       "      <td>การสื่อสารPhonon::</td>\n",
       "    </tr>\n",
       "    <tr>\n",
       "      <th>34766</th>\n",
       "      <td>Trò chơiPhonon::</td>\n",
       "      <td>เกมPhonon::</td>\n",
       "    </tr>\n",
       "    <tr>\n",
       "      <th>34767</th>\n",
       "      <td>Khả năng truy cậpNAME OF TRANSLATORS</td>\n",
       "      <td>สิ่งอำนวยความสะดวกNAME OF TRANSLATORS</td>\n",
       "    </tr>\n",
       "    <tr>\n",
       "      <th>34768</th>\n",
       "      <td>Nhóm Việt hoá KDEEMAIL OF TRANSLATORS</td>\n",
       "      <td>สหชาติ อนุกูลกิจ, ถนอมทรัพย์ นพบูรณ์EMAIL OF T...</td>\n",
       "    </tr>\n",
       "    <tr>\n",
       "      <th>34769</th>\n",
       "      <td>kde- l10n- vi@ kde. org</td>\n",
       "      <td>drrider@ gmail. com, donga. nb@ gmail. com</td>\n",
       "    </tr>\n",
       "  </tbody>\n",
       "</table>\n",
       "<p>34770 rows × 2 columns</p>\n",
       "</div>"
      ],
      "text/plain": [
       "                                          File 1 Content  \\\n",
       "0                           Thêm nguồn tin cho Akregator   \n",
       "1                       Thêm các nguồn tin cho Akregator   \n",
       "2                       Thêm mọi nguồn tin cho Akregator   \n",
       "3      Theo dõi chỗ Mạng này tìm bản cập nhật (dùng n...   \n",
       "4                                      Nguồn tin đã nhập   \n",
       "...                                                  ...   \n",
       "34765                                   Liên lạcPhonon::   \n",
       "34766                                   Trò chơiPhonon::   \n",
       "34767               Khả năng truy cậpNAME OF TRANSLATORS   \n",
       "34768              Nhóm Việt hoá KDEEMAIL OF TRANSLATORS   \n",
       "34769                            kde- l10n- vi@ kde. org   \n",
       "\n",
       "                                          File 2 Content  \n",
       "0                          เพิ่มแหล่งป้อนไปยัง Akregator  \n",
       "1                          เพิ่มแหล่งป้อนไปยัง Akregator  \n",
       "2              เพิ่มแหล่งป้อนที่พบทั้งหมดไปยัง Akregator  \n",
       "3      บอกรับการปรับปรุงของเว็บไซต์ (โดยใช้แหล่งป้อนห...  \n",
       "4                                    นำเข้าแหล่งป้อนแล้ว  \n",
       "...                                                  ...  \n",
       "34765                                 การสื่อสารPhonon::  \n",
       "34766                                        เกมPhonon::  \n",
       "34767              สิ่งอำนวยความสะดวกNAME OF TRANSLATORS  \n",
       "34768  สหชาติ อนุกูลกิจ, ถนอมทรัพย์ นพบูรณ์EMAIL OF T...  \n",
       "34769         drrider@ gmail. com, donga. nb@ gmail. com  \n",
       "\n",
       "[34770 rows x 2 columns]"
      ]
     },
     "execution_count": 3,
     "metadata": {},
     "output_type": "execute_result"
    }
   ],
   "source": [
    "df"
   ]
  },
  {
   "cell_type": "code",
   "execution_count": null,
   "metadata": {},
   "outputs": [],
   "source": []
  },
  {
   "cell_type": "code",
   "execution_count": null,
   "metadata": {},
   "outputs": [
    {
     "data": {
      "application/vnd.jupyter.widget-view+json": {
       "model_id": "570460da96774701b5a6dba89d764e33",
       "version_major": 2,
       "version_minor": 0
      },
      "text/plain": [
       "Loading checkpoint shards:   0%|          | 0/2 [00:00<?, ?it/s]"
      ]
     },
     "metadata": {},
     "output_type": "display_data"
    }
   ],
   "source": [
    "from transformers import AutoModelForCausalLM, AutoTokenizer\n",
    "\n",
    "model_id = \"ModelSpace/GemmaX2-28-2B-v0.1\"\n",
    "tokenizer = AutoTokenizer.from_pretrained(model_id)\n",
    "\n",
    "model = AutoModelForCausalLM.from_pretrained(model_id)\n",
    "\n",
    "text = \"Translate this from Chinese to English:\\nChinese: 我爱机器翻译\\nEnglish:\"\n",
    "inputs = tokenizer(text, return_tensors=\"pt\")\n",
    "\n",
    "outputs = model.generate(**inputs, max_new_tokens=50)\n",
    "print(tokenizer.decode(outputs[0], skip_special_tokens=True))\n"
   ]
  },
  {
   "cell_type": "code",
   "execution_count": null,
   "metadata": {},
   "outputs": [
    {
     "name": "stdout",
     "output_type": "stream",
     "text": [
      "2.6.0+cpu\n",
      "False\n"
     ]
    }
   ],
   "source": [
    "import torch\n",
    "print(torch.__version__)\n",
    "print(torch.cuda.is_available())"
   ]
  },
  {
   "cell_type": "code",
   "execution_count": null,
   "metadata": {},
   "outputs": [],
   "source": []
  }
 ],
 "metadata": {
  "kernelspec": {
   "display_name": "thesis",
   "language": "python",
   "name": "python3"
  },
  "language_info": {
   "codemirror_mode": {
    "name": "ipython",
    "version": 3
   },
   "file_extension": ".py",
   "mimetype": "text/x-python",
   "name": "python",
   "nbconvert_exporter": "python",
   "pygments_lexer": "ipython3",
   "version": "3.11.11"
  }
 },
 "nbformat": 4,
 "nbformat_minor": 2
}
